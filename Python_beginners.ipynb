{
 "cells": [
  {
   "cell_type": "markdown",
   "metadata": {},
   "source": [
    "**Question 1**\n",
    "Accept two int values from the user and return their product. If the product is greater than 1000, then return their sum"
   ]
  },
  {
   "cell_type": "code",
   "execution_count": 7,
   "metadata": {},
   "outputs": [
    {
     "name": "stdout",
     "output_type": "stream",
     "text": [
      "The result is 2000\n"
     ]
    }
   ],
   "source": [
    "num1 = input(\"Enter first number \")\n",
    "num2 = input(\"Enter second number \")\n",
    "\n",
    "prod = num1 * num2\n",
    "summ  = num1 + num2\n",
    "\n",
    "if(prod > 1000):\n",
    "    print(\"The result is \" + str(summ))\n",
    "else:\n",
    "    print(\"The result is \" + str(prod))\n"
   ]
  },
  {
   "cell_type": "markdown",
   "metadata": {},
   "source": [
    "**Question 2**\n",
    "Given a range of numbers. Iterate from o^th number to the end number and print the sum of the current number and previous number"
   ]
  },
  {
   "cell_type": "code",
   "execution_count": 15,
   "metadata": {},
   "outputs": [
    {
     "name": "stdout",
     "output_type": "stream",
     "text": [
      "Printing current and previous number sum in a given range\n",
      "0\n",
      "Printing current and previous number sum in a given range\n",
      "1\n",
      "Printing current and previous number sum in a given range\n",
      "3\n",
      "Printing current and previous number sum in a given range\n",
      "5\n",
      "Printing current and previous number sum in a given range\n",
      "7\n",
      "Printing current and previous number sum in a given range\n",
      "9\n",
      "Printing current and previous number sum in a given range\n",
      "11\n",
      "Printing current and previous number sum in a given range\n",
      "13\n",
      "Printing current and previous number sum in a given range\n",
      "15\n",
      "Printing current and previous number sum in a given range\n",
      "17\n"
     ]
    }
   ],
   "source": [
    "start = input(\"Give start of the range: \") \n",
    "stop = input(\"Give end of the range: \")\n",
    "step = input(\"Give step of the range: \")\n",
    "\n",
    "for current in range(start, stop, step):\n",
    "    print(\"Printing current and previous number sum in a given range\")\n",
    "    if current == 0:\n",
    "        print(current)\n",
    "        continue;\n",
    "    else:\n",
    "        previous = current - 1\n",
    "        print(current + previous)\n"
   ]
  },
  {
   "cell_type": "markdown",
   "metadata": {},
   "source": [
    "**Question 3**\n",
    "Accept string from the user and display only those characters which are present at an even index"
   ]
  },
  {
   "cell_type": "code",
   "execution_count": 12,
   "metadata": {},
   "outputs": [
    {
     "name": "stdin",
     "output_type": "stream",
     "text": [
      "Enter pynative\n"
     ]
    },
    {
     "name": "stdout",
     "output_type": "stream",
     "text": [
      "Original string is: pynative\n",
      "p\n",
      "n\n",
      "t\n",
      "v\n"
     ]
    }
   ],
   "source": [
    "stri = input(\"Enter\")\n",
    "\n",
    "lena = len(stri)\n",
    "\n",
    "print(\"Original string is: \" + stri)\n",
    "\n",
    "for char in stri[0:lena:2]:\n",
    "        print(char)\n",
    "    \n"
   ]
  },
  {
   "cell_type": "markdown",
   "metadata": {},
   "source": [
    "**Question4**\n",
    "Given a string and an int n, remove characters from string starting from zero up to n and return a new string"
   ]
  },
  {
   "cell_type": "code",
   "execution_count": null,
   "metadata": {},
   "outputs": [],
   "source": [
    "string = input(\" Enter string\")\n",
    "n = input(\" Enter number\")\n",
    "new_str = \"\"\n",
    "\n",
    "for char in string:\n",
    "    new_str = new_str + char\n"
   ]
  },
  {
   "cell_type": "markdown",
   "metadata": {},
   "source": [
    "**Question 5**  \n",
    "Given a list of ints, return True if first and last number of a list is same"
   ]
  },
  {
   "cell_type": "code",
   "execution_count": 2,
   "metadata": {},
   "outputs": [
    {
     "name": "stdout",
     "output_type": "stream",
     "text": [
      "10\n",
      "20\n",
      "55\n"
     ]
    }
   ],
   "source": [
    "ints = [10, 20, 33, 46, 55]\n",
    "\n",
    "for i in ints:\n",
    "    if i % 5 == 0:\n",
    "        print(i)"
   ]
  },
  {
   "cell_type": "markdown",
   "metadata": {},
   "source": [
    "**Question 7**\n",
    "Return the number of times that the string “Emma” appears anywhere in the given string"
   ]
  },
  {
   "cell_type": "markdown",
   "metadata": {},
   "source": [
    "string = \"Emma is good developer. Emma is aslo a writer\"\n",
    "print(string)\n",
    "\n",
    "count = 0\n",
    "j = 0\n",
    "for i in range(len(string)-1):\n",
    "    if string[i:i+4] == 'Emma':\n",
    "        count = count + 1\n",
    "\n",
    "print(\"Emma appeared \", count, \"times\")\n",
    "  \n",
    "    "
   ]
  },
  {
   "cell_type": "markdown",
   "metadata": {},
   "source": [
    "**Question 8** \n",
    "Print the following pattern\n",
    "1 \n",
    "2 2 \n",
    "3 3 3 \n",
    "4 4 4 4 \n",
    "5 5 5 5 5"
   ]
  },
  {
   "cell_type": "code",
   "execution_count": 33,
   "metadata": {},
   "outputs": [
    {
     "name": "stdout",
     "output_type": "stream",
     "text": [
      "\n",
      "1 \n",
      "2 2 \n",
      "3 3 3 \n",
      "4 4 4 4 \n",
      "5 5 5 5 5 \n"
     ]
    }
   ],
   "source": [
    "for i in range(6):\n",
    "    count = i\n",
    "    while count !=0:\n",
    "        print(i, end =\" \")\n",
    "        count = count - 1\n",
    "    \n",
    "    print(\"\")"
   ]
  },
  {
   "cell_type": "markdown",
   "metadata": {},
   "source": [
    "**Question 9**\n",
    "Reverse a given number and return true if it is the same as the original number"
   ]
  },
  {
   "cell_type": "code",
   "execution_count": 45,
   "metadata": {},
   "outputs": [
    {
     "name": "stdout",
     "output_type": "stream",
     "text": [
      "Number =  121\n",
      "Orignal and revers number is equal\n",
      "True\n"
     ]
    }
   ],
   "source": [
    "def anagram_checker(num):\n",
    "    anagram = number[::-1]\n",
    "    if anagram == number:\n",
    "        return True\n",
    "    else:\n",
    "        return False\n",
    "\n",
    "print(\"Number = \", number)\n",
    "print(\"Orignal and revers number is equal\")\n",
    "print(anagram_checker(number))"
   ]
  },
  {
   "cell_type": "markdown",
   "metadata": {},
   "source": [
    "**Question 10**\n",
    "Given a two list of ints create a third list such that should contain only odd numbers from the first list and even numbers from the second list"
   ]
  },
  {
   "cell_type": "code",
   "execution_count": 74,
   "metadata": {},
   "outputs": [
    {
     "name": "stdout",
     "output_type": "stream",
     "text": [
      "10\n",
      "13\n",
      "0\n",
      "20\n",
      "43\n",
      "0\n",
      "23\n",
      "24\n",
      "1\n",
      "11\n",
      "36\n",
      "1\n",
      "17\n",
      "12\n",
      "1\n",
      "[23, 24, 11, 36, 17, 12]\n"
     ]
    }
   ],
   "source": [
    "listOne = [10, 20, 23, 11, 17]\n",
    "listTwo = [13, 43, 24, 36, 12]\n",
    "\n",
    "new = []\n",
    "for i in range(len(listOne)):\n",
    "    print(listOne[i] % 2)\n",
    "    if(listOne[i] % 2 != 0):\n",
    "        new.append(listOne[i])\n",
    "\n",
    "    if(listTwo[i] % 2 == 0):\n",
    "        new.append(listTwo[i])\n",
    "     \n",
    "print(new)"
   ]
  },
  {
   "cell_type": "markdown",
   "metadata": {},
   "source": [
    "**Exercise Question 1:** \n",
    "Given a string of odd length greater 7, return a string made of the middle three chars of a given String"
   ]
  },
  {
   "cell_type": "code",
   "execution_count": 89,
   "metadata": {},
   "outputs": [
    {
     "name": "stdout",
     "output_type": "stream",
     "text": [
      "Original String is  JhonDipPeta\n",
      "Middle three chars are  Dip\n",
      "Original String is  Jasonay\n",
      "Middle three chars are  son\n"
     ]
    }
   ],
   "source": [
    "\n",
    "def getMiddleThreeChars(word): \n",
    "    print(\"Original String is \", word)\n",
    "    index = int((len(word)-1)/2)\n",
    "    return word[index-1:index+2]\n",
    "\n",
    "\n",
    "print(\"Middle three chars are \", getMiddleThreeChars(\"JhonDipPeta\"))\n",
    "print(\"Middle three chars are \", getMiddleThreeChars(\"Jasonay\"))"
   ]
  },
  {
   "cell_type": "markdown",
   "metadata": {},
   "source": [
    "**Exercise Question 2:**\n",
    "Given 2 strings, s1 and s2, create a new string by appending s2 in the middle of s1"
   ]
  },
  {
   "cell_type": "code",
   "execution_count": 111,
   "metadata": {},
   "outputs": [
    {
     "name": "stdout",
     "output_type": "stream",
     "text": [
      "Original Strings are  Chrisdemr IamNewString\n",
      "After appending new string in middle ChrIamNewStringsdemr\n"
     ]
    }
   ],
   "source": [
    "s1 = \"Chrisdemr\"\n",
    "s2 = \"IamNewString\"\n",
    "\n",
    "def appendMiddle(s1,s2):\n",
    "    print(\"Original Strings are \", s1, s2)\n",
    "    index = int(len(s1)/2)\n",
    "    s3 = s1[0:index-1] + s2 + s1[index:]\n",
    "    return s3\n",
    "    \n",
    "  \n",
    "print(\"After appending new string in middle\", appendMiddle(s1,s2))\n",
    "    \n",
    "    \n",
    "    \n",
    "        "
   ]
  },
  {
   "cell_type": "code",
   "execution_count": null,
   "metadata": {},
   "outputs": [],
   "source": []
  },
  {
   "cell_type": "code",
   "execution_count": null,
   "metadata": {},
   "outputs": [],
   "source": []
  }
 ],
 "metadata": {
  "kernelspec": {
   "display_name": "Python 3",
   "language": "python",
   "name": "python3"
  },
  "language_info": {
   "codemirror_mode": {
    "name": "ipython",
    "version": 3
   },
   "file_extension": ".py",
   "mimetype": "text/x-python",
   "name": "python",
   "nbconvert_exporter": "python",
   "pygments_lexer": "ipython3",
   "version": "3.7.3"
  }
 },
 "nbformat": 4,
 "nbformat_minor": 4
}
