{
 "cells": [
  {
   "cell_type": "markdown",
   "metadata": {},
   "source": [
    "**Question 1**\n",
    "Accept two int values from the user and return their product. If the product is greater than 1000, then return their sum"
   ]
  },
  {
   "cell_type": "code",
   "execution_count": 7,
   "metadata": {},
   "outputs": [
    {
     "name": "stdout",
     "output_type": "stream",
     "text": [
      "The result is 2000\n"
     ]
    }
   ],
   "source": [
    "num1 = input(\"Enter first number \")\n",
    "num2 = input(\"Enter second number \")\n",
    "\n",
    "prod = num1 * num2\n",
    "summ  = num1 + num2\n",
    "\n",
    "if(prod > 1000):\n",
    "    print(\"The result is \" + str(summ))\n",
    "else:\n",
    "    print(\"The result is \" + str(prod))\n"
   ]
  },
  {
   "cell_type": "markdown",
   "metadata": {},
   "source": [
    "**Question 2**\n",
    "Given a range of numbers. Iterate from o^th number to the end number and print the sum of the current number and previous number"
   ]
  },
  {
   "cell_type": "code",
   "execution_count": 15,
   "metadata": {},
   "outputs": [
    {
     "name": "stdout",
     "output_type": "stream",
     "text": [
      "Printing current and previous number sum in a given range\n",
      "0\n",
      "Printing current and previous number sum in a given range\n",
      "1\n",
      "Printing current and previous number sum in a given range\n",
      "3\n",
      "Printing current and previous number sum in a given range\n",
      "5\n",
      "Printing current and previous number sum in a given range\n",
      "7\n",
      "Printing current and previous number sum in a given range\n",
      "9\n",
      "Printing current and previous number sum in a given range\n",
      "11\n",
      "Printing current and previous number sum in a given range\n",
      "13\n",
      "Printing current and previous number sum in a given range\n",
      "15\n",
      "Printing current and previous number sum in a given range\n",
      "17\n"
     ]
    }
   ],
   "source": [
    "start = input(\"Give start of the range: \") \n",
    "stop = input(\"Give end of the range: \")\n",
    "step = input(\"Give step of the range: \")\n",
    "\n",
    "for current in range(start, stop, step):\n",
    "    print(\"Printing current and previous number sum in a given range\")\n",
    "    if current == 0:\n",
    "        print(current)\n",
    "        continue;\n",
    "    else:\n",
    "        previous = current - 1\n",
    "        print(current + previous)\n"
   ]
  },
  {
   "cell_type": "markdown",
   "metadata": {},
   "source": [
    "**Question 3**\n",
    "Accept string from the user and display only those characters which are present at an even index"
   ]
  },
  {
   "cell_type": "code",
   "execution_count": 12,
   "metadata": {},
   "outputs": [
    {
     "name": "stdin",
     "output_type": "stream",
     "text": [
      "Enter pynative\n"
     ]
    },
    {
     "name": "stdout",
     "output_type": "stream",
     "text": [
      "Original string is: pynative\n",
      "p\n",
      "n\n",
      "t\n",
      "v\n"
     ]
    }
   ],
   "source": [
    "stri = input(\"Enter\")\n",
    "\n",
    "lena = len(stri)\n",
    "\n",
    "print(\"Original string is: \" + stri)\n",
    "\n",
    "for char in stri[0:lena:2]:\n",
    "        print(char)\n",
    "    \n"
   ]
  },
  {
   "cell_type": "markdown",
   "metadata": {},
   "source": [
    "**Question4**\n",
    "Given a string and an int n, remove characters from string starting from zero up to n and return a new string"
   ]
  },
  {
   "cell_type": "code",
   "execution_count": null,
   "metadata": {},
   "outputs": [],
   "source": [
    "string = input(\" Enter string\")\n",
    "n = input(\" Enter number\")\n",
    "new_str = \"\"\n",
    "\n",
    "for char in string:\n",
    "    new_str = new_str + char\n"
   ]
  }
 ],
 "metadata": {
  "kernelspec": {
   "display_name": "Python 3",
   "language": "python",
   "name": "python3"
  },
  "language_info": {
   "codemirror_mode": {
    "name": "ipython",
    "version": 3
   },
   "file_extension": ".py",
   "mimetype": "text/x-python",
   "name": "python",
   "nbconvert_exporter": "python",
   "pygments_lexer": "ipython3",
   "version": "3.7.4"
  }
 },
 "nbformat": 4,
 "nbformat_minor": 4
}
